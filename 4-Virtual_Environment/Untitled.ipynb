{
 "cells": [
  {
   "cell_type": "code",
   "execution_count": 5,
   "id": "24a36e57-1299-4228-8fca-d2babebb4387",
   "metadata": {},
   "outputs": [
    {
     "name": "stdout",
     "output_type": "stream",
     "text": [
      "{\"name\":\"John\",\"age\":30,\"city\":\"New York\"}\n"
     ]
    }
   ],
   "source": [
    "import json\n",
    "\n",
    "data = {\n",
    "    \"name\": \"John\",\n",
    "    \"age\": 30,\n",
    "    \"city\": \"New York\"\n",
    "}\n",
    "\n",
    "json_data = json.dumps(data, separators=(\",\", \":\"))\n",
    "\n",
    "print(json_data)"
   ]
  },
  {
   "cell_type": "code",
   "execution_count": 6,
   "id": "8af93d24-12b2-4f79-967c-6ce45a12d725",
   "metadata": {},
   "outputs": [
    {
     "name": "stdout",
     "output_type": "stream",
     "text": [
      "{\"age\": 30, \"city\": \"New York\", \"name\": \"John\"}\n"
     ]
    }
   ],
   "source": [
    "import json\n",
    "\n",
    "data = {\n",
    "    \"name\": \"John\",\n",
    "    \"age\": 30,\n",
    "    \"city\": \"New York\"\n",
    "}\n",
    "\n",
    "json_data = json.dumps(data, sort_keys=True)\n",
    "\n",
    "print(json_data)"
   ]
  },
  {
   "cell_type": "code",
   "execution_count": 10,
   "id": "1daeb8af-833d-4b2f-b38a-37cab6c3f217",
   "metadata": {},
   "outputs": [
    {
     "name": "stdout",
     "output_type": "stream",
     "text": [
      "<class 'str'>\n",
      "[1, 2, 3, \"four\", \"five\"]\n"
     ]
    }
   ],
   "source": [
    "import json\n",
    "\n",
    "my_list = [1, 2, 3, \"four\", \"five\"]\n",
    "\n",
    "json_string = json.dumps(my_list)\n",
    "\n",
    "print(type(json_string))\n",
    "print(json_string)"
   ]
  },
  {
   "cell_type": "code",
   "execution_count": 13,
   "id": "1fc11062-0410-4395-9fd1-8245c2c689bb",
   "metadata": {},
   "outputs": [
    {
     "name": "stdout",
     "output_type": "stream",
     "text": [
      "<re.Match object; span=(0, 17), match='The rain in Spain'>\n"
     ]
    }
   ],
   "source": [
    "import re\n",
    "\n",
    "txt = \"The rain in Spain\"\n",
    "x = re.search(\"^The.*Spain$\", txt)\n",
    "print(x)"
   ]
  },
  {
   "cell_type": "code",
   "execution_count": 72,
   "id": "fc7dcfdf-8d63-41b1-8302-57a5c683fb63",
   "metadata": {},
   "outputs": [
    {
     "name": "stdout",
     "output_type": "stream",
     "text": [
      "Socket successfully created\n",
      "socket binded to 12345\n",
      "socket is listening\n"
     ]
    },
    {
     "ename": "KeyboardInterrupt",
     "evalue": "",
     "output_type": "error",
     "traceback": [
      "\u001b[31m---------------------------------------------------------------------------\u001b[39m",
      "\u001b[31mKeyboardInterrupt\u001b[39m                         Traceback (most recent call last)",
      "\u001b[36mCell\u001b[39m\u001b[36m \u001b[39m\u001b[32mIn[72]\u001b[39m\u001b[32m, line 29\u001b[39m\n\u001b[32m     24\u001b[39m \u001b[38;5;66;03m# a forever loop until we interrupt it or \u001b[39;00m\n\u001b[32m     25\u001b[39m \u001b[38;5;66;03m# an error occurs \u001b[39;00m\n\u001b[32m     26\u001b[39m \u001b[38;5;28;01mwhile\u001b[39;00m \u001b[38;5;28;01mTrue\u001b[39;00m: \n\u001b[32m     27\u001b[39m \n\u001b[32m     28\u001b[39m \u001b[38;5;66;03m# Establish connection with client. \u001b[39;00m\n\u001b[32m---> \u001b[39m\u001b[32m29\u001b[39m   c, addr = \u001b[43ms\u001b[49m\u001b[43m.\u001b[49m\u001b[43maccept\u001b[49m\u001b[43m(\u001b[49m\u001b[43m)\u001b[49m     \n\u001b[32m     30\u001b[39m   \u001b[38;5;28mprint\u001b[39m (\u001b[33m'\u001b[39m\u001b[33mGot connection from\u001b[39m\u001b[33m'\u001b[39m, addr )\n\u001b[32m     32\u001b[39m   \u001b[38;5;66;03m# send a thank you message to the client. encoding to send byte type. \u001b[39;00m\n",
      "\u001b[36mFile \u001b[39m\u001b[32m/usr/lib/python3.12/socket.py:295\u001b[39m, in \u001b[36msocket.accept\u001b[39m\u001b[34m(self)\u001b[39m\n\u001b[32m    288\u001b[39m \u001b[38;5;28;01mdef\u001b[39;00m\u001b[38;5;250m \u001b[39m\u001b[34maccept\u001b[39m(\u001b[38;5;28mself\u001b[39m):\n\u001b[32m    289\u001b[39m \u001b[38;5;250m    \u001b[39m\u001b[33;03m\"\"\"accept() -> (socket object, address info)\u001b[39;00m\n\u001b[32m    290\u001b[39m \n\u001b[32m    291\u001b[39m \u001b[33;03m    Wait for an incoming connection.  Return a new socket\u001b[39;00m\n\u001b[32m    292\u001b[39m \u001b[33;03m    representing the connection, and the address of the client.\u001b[39;00m\n\u001b[32m    293\u001b[39m \u001b[33;03m    For IP sockets, the address info is a pair (hostaddr, port).\u001b[39;00m\n\u001b[32m    294\u001b[39m \u001b[33;03m    \"\"\"\u001b[39;00m\n\u001b[32m--> \u001b[39m\u001b[32m295\u001b[39m     fd, addr = \u001b[38;5;28;43mself\u001b[39;49m\u001b[43m.\u001b[49m\u001b[43m_accept\u001b[49m\u001b[43m(\u001b[49m\u001b[43m)\u001b[49m\n\u001b[32m    296\u001b[39m     sock = socket(\u001b[38;5;28mself\u001b[39m.family, \u001b[38;5;28mself\u001b[39m.type, \u001b[38;5;28mself\u001b[39m.proto, fileno=fd)\n\u001b[32m    297\u001b[39m     \u001b[38;5;66;03m# Issue #7995: if no default timeout is set and the listening\u001b[39;00m\n\u001b[32m    298\u001b[39m     \u001b[38;5;66;03m# socket had a (non-zero) timeout, force the new socket in blocking\u001b[39;00m\n\u001b[32m    299\u001b[39m     \u001b[38;5;66;03m# mode to override platform-specific socket flags inheritance.\u001b[39;00m\n",
      "\u001b[31mKeyboardInterrupt\u001b[39m: "
     ]
    }
   ],
   "source": [
    "# first of all import the socket library \n",
    "import socket             \n",
    "\n",
    "# next create a socket object \n",
    "s = socket.socket()         \n",
    "print (\"Socket successfully created\")\n",
    "\n",
    "# reserve a port on your computer in our \n",
    "# case it is 12345 but it can be anything \n",
    "port = 12345                \n",
    "\n",
    "# Next bind to the port \n",
    "# we have not typed any ip in the ip field \n",
    "# instead we have inputted an empty string \n",
    "# this makes the server listen to requests \n",
    "# coming from other computers on the network \n",
    "s.bind(('', port))         \n",
    "print (\"socket binded to %s\" %(port)) \n",
    "\n",
    "# put the socket into listening mode \n",
    "s.listen(5)     \n",
    "print (\"socket is listening\")            \n",
    "\n",
    "# a forever loop until we interrupt it or \n",
    "# an error occurs \n",
    "while True: \n",
    "\n",
    "# Establish connection with client. \n",
    "  c, addr = s.accept()     \n",
    "  print ('Got connection from', addr )\n",
    "\n",
    "  # send a thank you message to the client. encoding to send byte type. \n",
    "  c.send('Thank you for connecting'.encode()) \n",
    "\n",
    "  # Close the connection with the client \n",
    "  c.close()\n",
    "  \n",
    "  # Breaking once connection closed\n",
    "  break"
   ]
  },
  {
   "cell_type": "code",
   "execution_count": 73,
   "id": "175f1041-dee2-4d72-8e42-0ffc3ef31706",
   "metadata": {},
   "outputs": [
    {
     "ename": "KeyboardInterrupt",
     "evalue": "",
     "output_type": "error",
     "traceback": [
      "\u001b[31m---------------------------------------------------------------------------\u001b[39m",
      "\u001b[31mKeyboardInterrupt\u001b[39m                         Traceback (most recent call last)",
      "\u001b[36mCell\u001b[39m\u001b[36m \u001b[39m\u001b[32mIn[73]\u001b[39m\u001b[32m, line 14\u001b[39m\n\u001b[32m     11\u001b[39m s.connect((\u001b[33m'\u001b[39m\u001b[33m127.0.0.1\u001b[39m\u001b[33m'\u001b[39m, port)) \n\u001b[32m     13\u001b[39m \u001b[38;5;66;03m# receive data from the server and decoding to get the string.\u001b[39;00m\n\u001b[32m---> \u001b[39m\u001b[32m14\u001b[39m \u001b[38;5;28mprint\u001b[39m (\u001b[43ms\u001b[49m\u001b[43m.\u001b[49m\u001b[43mrecv\u001b[49m\u001b[43m(\u001b[49m\u001b[32;43m1024\u001b[39;49m\u001b[43m)\u001b[49m.decode())\n\u001b[32m     15\u001b[39m \u001b[38;5;66;03m# close the connection \u001b[39;00m\n\u001b[32m     16\u001b[39m s.close()\n",
      "\u001b[31mKeyboardInterrupt\u001b[39m: "
     ]
    }
   ],
   "source": [
    "# Import socket module \n",
    "import socket             \n",
    "\n",
    "# Create a socket object \n",
    "s = socket.socket()         \n",
    "\n",
    "# Define the port on which you want to connect \n",
    "port = 12345                \n",
    "\n",
    "# connect to the server on local computer \n",
    "s.connect(('127.0.0.1', port)) \n",
    "\n",
    "# receive data from the server and decoding to get the string.\n",
    "print (s.recv(1024).decode())\n",
    "# close the connection \n",
    "s.close()"
   ]
  },
  {
   "cell_type": "code",
   "execution_count": 69,
   "id": "47674999-c0f9-458e-ba97-efdb187cf07a",
   "metadata": {},
   "outputs": [
    {
     "name": "stdout",
     "output_type": "stream",
     "text": [
      "Socket successfully created\n",
      "the socket has successfully connected to google\n"
     ]
    }
   ],
   "source": [
    "# An example script to connect to Google using socket \n",
    "# programming in Python \n",
    "import socket # for socket \n",
    "import sys \n",
    "\n",
    "try: \n",
    "    s = socket.socket(socket.AF_INET, socket.SOCK_STREAM) \n",
    "    print (\"Socket successfully created\")\n",
    "except socket.error as err: \n",
    "    print (\"socket creation failed with error %s\" %(err))\n",
    "\n",
    "# default port for socket \n",
    "port = 80\n",
    "\n",
    "try: \n",
    "    host_ip = socket.gethostbyname('www.google.com') \n",
    "except socket.gaierror: \n",
    "\n",
    "    # this means could not resolve the host \n",
    "    print (\"there was an error resolving the host\")\n",
    "    sys.exit() \n",
    "\n",
    "# connecting to the server \n",
    "s.connect((host_ip, port)) \n",
    "\n",
    "print (\"the socket has successfully connected to google\")"
   ]
  },
  {
   "cell_type": "code",
   "execution_count": 69,
   "id": "fee22d32-faf8-4fd1-9dc8-030e96253c41",
   "metadata": {},
   "outputs": [
    {
     "name": "stdout",
     "output_type": "stream",
     "text": [
      "Socket successfully created\n",
      "the socket has successfully connected to google\n"
     ]
    }
   ],
   "source": [
    "# An example script to connect to Google using socket \n",
    "# programming in Python \n",
    "import socket # for socket \n",
    "import sys \n",
    "\n",
    "try: \n",
    "    s = socket.socket(socket.AF_INET, socket.SOCK_STREAM) \n",
    "    print (\"Socket successfully created\")\n",
    "except socket.error as err: \n",
    "    print (\"socket creation failed with error %s\" %(err))\n",
    "\n",
    "# default port for socket \n",
    "port = 80\n",
    "\n",
    "try: \n",
    "    host_ip = socket.gethostbyname('www.google.com') \n",
    "except socket.gaierror: \n",
    "\n",
    "    # this means could not resolve the host \n",
    "    print (\"there was an error resolving the host\")\n",
    "    sys.exit() \n",
    "\n",
    "# connecting to the server \n",
    "s.connect((host_ip, port)) \n",
    "\n",
    "print (\"the socket has successfully connected to google\")"
   ]
  },
  {
   "cell_type": "code",
   "execution_count": null,
   "id": "dd449c0f-86ed-4254-b65b-51ffcc272234",
   "metadata": {},
   "outputs": [],
   "source": []
  },
  {
   "cell_type": "code",
   "execution_count": 103,
   "id": "8bfc3d62-8044-45d0-a918-8cf7666fef07",
   "metadata": {},
   "outputs": [
    {
     "ename": "AttributeError",
     "evalue": "module 'socket' has no attribute 'setsockopt'",
     "output_type": "error",
     "traceback": [
      "\u001b[31m---------------------------------------------------------------------------\u001b[39m",
      "\u001b[31mAttributeError\u001b[39m                            Traceback (most recent call last)",
      "\u001b[36mCell\u001b[39m\u001b[36m \u001b[39m\u001b[32mIn[103]\u001b[39m\u001b[32m, line 60\u001b[39m\n\u001b[32m     57\u001b[39m             handle_client(client_socket)\n\u001b[32m     59\u001b[39m \u001b[38;5;28;01mif\u001b[39;00m \u001b[34m__name__\u001b[39m == \u001b[33m\"\u001b[39m\u001b[33m__main__\u001b[39m\u001b[33m\"\u001b[39m:\n\u001b[32m---> \u001b[39m\u001b[32m60\u001b[39m     \u001b[43mstart_server\u001b[49m\u001b[43m(\u001b[49m\u001b[43m)\u001b[49m\n",
      "\u001b[36mCell\u001b[39m\u001b[36m \u001b[39m\u001b[32mIn[103]\u001b[39m\u001b[32m, line 49\u001b[39m, in \u001b[36mstart_server\u001b[39m\u001b[34m()\u001b[39m\n\u001b[32m     47\u001b[39m \u001b[38;5;28;01mdef\u001b[39;00m\u001b[38;5;250m \u001b[39m\u001b[34mstart_server\u001b[39m():\n\u001b[32m     48\u001b[39m     \u001b[38;5;28;01mwith\u001b[39;00m socket.socket(socket.AF_INET, socket.SOCK_STREAM) \u001b[38;5;28;01mas\u001b[39;00m server_socket:\n\u001b[32m---> \u001b[39m\u001b[32m49\u001b[39m         \u001b[43msocket\u001b[49m\u001b[43m.\u001b[49m\u001b[43msetsockopt\u001b[49m(socket.SOL_SOCKET, socket.SO_REUSEADDR, \u001b[32m1\u001b[39m)\n\u001b[32m     50\u001b[39m         server_socket.bind((HOST, PORT))\n\u001b[32m     51\u001b[39m         server_socket.listen(\u001b[32m5\u001b[39m)\n",
      "\u001b[31mAttributeError\u001b[39m: module 'socket' has no attribute 'setsockopt'"
     ]
    }
   ],
   "source": [
    "import socket\n",
    "import json\n",
    "\n",
    "# Hardcoded product list\n",
    "products = [\n",
    "    {\"id\": 1, \"type\": \"Laptop\", \"price\": 999.99},\n",
    "    {\"id\": 2, \"type\": \"Smartphone\", \"price\": 499.49},\n",
    "    {\"id\": 3, \"type\": \"Headphones\", \"price\": 149.95}\n",
    "]\n",
    "\n",
    "# Server setup\n",
    "HOST = '127.0.0.1'\n",
    "PORT = 5000\n",
    "\n",
    "def handle_client(client_socket):\n",
    "    request = client_socket.recv(1024).decode('utf-8')\n",
    "    # print(f\"[REQUEST] {request}\")\n",
    "\n",
    "    # Parse the request line (e.g., GET /items HTTP/1.1)\n",
    "    request_line = request.splitlines()[0]\n",
    "    method, path, _ = request_line.split()\n",
    "\n",
    "    if method == 'GET' and path == '/items':\n",
    "        response_body = json.dumps(products)\n",
    "        response = (\n",
    "            \"HTTP/1.1 200 OK\\r\\n\"\n",
    "            \"Content-Type: application/json\\r\\n\"\n",
    "            f\"Content-Length: {len(response_body)}\\r\\n\"\n",
    "            \"Connection: close\\r\\n\"\n",
    "            \"\\r\\n\" +\n",
    "            response_body\n",
    "        )\n",
    "    else:\n",
    "        response_body = json.dumps({\"error\": \"Not found\"})\n",
    "        response = (\n",
    "            \"HTTP/1.1 404 Not Found\\r\\n\"\n",
    "            \"Content-Type: application/json\\r\\n\"\n",
    "            f\"Content-Length: {len(response_body)}\\r\\n\"\n",
    "            \"Connection: close\\r\\n\"\n",
    "            \"\\r\\n\" +\n",
    "            response_body\n",
    "        )\n",
    "\n",
    "    client_socket.sendall(response.encode('utf-8'))\n",
    "    client_socket.close()\n",
    "\n",
    "def start_server():\n",
    "    with socket.socket(socket.AF_INET, socket.SOCK_STREAM) as server_socket:\n",
    "        socket.setsockopt(socket.SOL_SOCKET, socket.SO_REUSEADDR, 1)\n",
    "        server_socket.bind((HOST, PORT))\n",
    "        server_socket.listen(5)\n",
    "        print(f\"[*] Server running on http://{HOST}:{PORT}\")\n",
    "\n",
    "        while True:\n",
    "            client_socket, addr = server_socket.accept()\n",
    "            print(f\"[+] Connected by {addr}\")\n",
    "            handle_client(client_socket)\n",
    "\n",
    "if __name__ == \"__main__\":\n",
    "    start_server()\n"
   ]
  },
  {
   "cell_type": "code",
   "execution_count": null,
   "id": "94821cd4-41cc-4b0a-ba0d-7fdbe661f883",
   "metadata": {},
   "outputs": [],
   "source": []
  }
 ],
 "metadata": {
  "kernelspec": {
   "display_name": "Python 3 (ipykernel)",
   "language": "python",
   "name": "python3"
  },
  "language_info": {
   "codemirror_mode": {
    "name": "ipython",
    "version": 3
   },
   "file_extension": ".py",
   "mimetype": "text/x-python",
   "name": "python",
   "nbconvert_exporter": "python",
   "pygments_lexer": "ipython3",
   "version": "3.12.10"
  }
 },
 "nbformat": 4,
 "nbformat_minor": 5
}
