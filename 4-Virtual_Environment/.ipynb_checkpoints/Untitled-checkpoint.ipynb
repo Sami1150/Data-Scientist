{
 "cells": [
  {
   "cell_type": "code",
   "execution_count": 5,
   "id": "24a36e57-1299-4228-8fca-d2babebb4387",
   "metadata": {},
   "outputs": [
    {
     "name": "stdout",
     "output_type": "stream",
     "text": [
      "{\"name\":\"John\",\"age\":30,\"city\":\"New York\"}\n"
     ]
    }
   ],
   "source": [
    "import json\n",
    "\n",
    "data = {\n",
    "    \"name\": \"John\",\n",
    "    \"age\": 30,\n",
    "    \"city\": \"New York\"\n",
    "}\n",
    "\n",
    "json_data = json.dumps(data, separators=(\",\", \":\"))\n",
    "\n",
    "print(json_data)"
   ]
  },
  {
   "cell_type": "code",
   "execution_count": 6,
   "id": "8af93d24-12b2-4f79-967c-6ce45a12d725",
   "metadata": {},
   "outputs": [
    {
     "name": "stdout",
     "output_type": "stream",
     "text": [
      "{\"age\": 30, \"city\": \"New York\", \"name\": \"John\"}\n"
     ]
    }
   ],
   "source": [
    "import json\n",
    "\n",
    "data = {\n",
    "    \"name\": \"John\",\n",
    "    \"age\": 30,\n",
    "    \"city\": \"New York\"\n",
    "}\n",
    "\n",
    "json_data = json.dumps(data, sort_keys=True)\n",
    "\n",
    "print(json_data)"
   ]
  },
  {
   "cell_type": "code",
   "execution_count": 10,
   "id": "1daeb8af-833d-4b2f-b38a-37cab6c3f217",
   "metadata": {},
   "outputs": [
    {
     "name": "stdout",
     "output_type": "stream",
     "text": [
      "<class 'str'>\n",
      "[1, 2, 3, \"four\", \"five\"]\n"
     ]
    }
   ],
   "source": [
    "import json\n",
    "\n",
    "my_list = [1, 2, 3, \"four\", \"five\"]\n",
    "\n",
    "json_string = json.dumps(my_list)\n",
    "\n",
    "print(type(json_string))\n",
    "print(json_string)"
   ]
  },
  {
   "cell_type": "code",
   "execution_count": 13,
   "id": "1fc11062-0410-4395-9fd1-8245c2c689bb",
   "metadata": {},
   "outputs": [
    {
     "name": "stdout",
     "output_type": "stream",
     "text": [
      "<re.Match object; span=(0, 17), match='The rain in Spain'>\n"
     ]
    }
   ],
   "source": [
    "import re\n",
    "\n",
    "txt = \"The rain in Spain\"\n",
    "x = re.search(\"^The.*Spain$\", txt)\n",
    "print(x)"
   ]
  },
  {
   "cell_type": "code",
   "execution_count": 72,
   "id": "fc7dcfdf-8d63-41b1-8302-57a5c683fb63",
   "metadata": {},
   "outputs": [
    {
     "name": "stdout",
     "output_type": "stream",
     "text": [
      "Socket successfully created\n",
      "socket binded to 12345\n",
      "socket is listening\n"
     ]
    },
    {
     "ename": "KeyboardInterrupt",
     "evalue": "",
     "output_type": "error",
     "traceback": [
      "\u001b[31m---------------------------------------------------------------------------\u001b[39m",
      "\u001b[31mKeyboardInterrupt\u001b[39m                         Traceback (most recent call last)",
      "\u001b[36mCell\u001b[39m\u001b[36m \u001b[39m\u001b[32mIn[72]\u001b[39m\u001b[32m, line 29\u001b[39m\n\u001b[32m     24\u001b[39m \u001b[38;5;66;03m# a forever loop until we interrupt it or \u001b[39;00m\n\u001b[32m     25\u001b[39m \u001b[38;5;66;03m# an error occurs \u001b[39;00m\n\u001b[32m     26\u001b[39m \u001b[38;5;28;01mwhile\u001b[39;00m \u001b[38;5;28;01mTrue\u001b[39;00m: \n\u001b[32m     27\u001b[39m \n\u001b[32m     28\u001b[39m \u001b[38;5;66;03m# Establish connection with client. \u001b[39;00m\n\u001b[32m---> \u001b[39m\u001b[32m29\u001b[39m   c, addr = \u001b[43ms\u001b[49m\u001b[43m.\u001b[49m\u001b[43maccept\u001b[49m\u001b[43m(\u001b[49m\u001b[43m)\u001b[49m     \n\u001b[32m     30\u001b[39m   \u001b[38;5;28mprint\u001b[39m (\u001b[33m'\u001b[39m\u001b[33mGot connection from\u001b[39m\u001b[33m'\u001b[39m, addr )\n\u001b[32m     32\u001b[39m   \u001b[38;5;66;03m# send a thank you message to the client. encoding to send byte type. \u001b[39;00m\n",
      "\u001b[36mFile \u001b[39m\u001b[32m/usr/lib/python3.12/socket.py:295\u001b[39m, in \u001b[36msocket.accept\u001b[39m\u001b[34m(self)\u001b[39m\n\u001b[32m    288\u001b[39m \u001b[38;5;28;01mdef\u001b[39;00m\u001b[38;5;250m \u001b[39m\u001b[34maccept\u001b[39m(\u001b[38;5;28mself\u001b[39m):\n\u001b[32m    289\u001b[39m \u001b[38;5;250m    \u001b[39m\u001b[33;03m\"\"\"accept() -> (socket object, address info)\u001b[39;00m\n\u001b[32m    290\u001b[39m \n\u001b[32m    291\u001b[39m \u001b[33;03m    Wait for an incoming connection.  Return a new socket\u001b[39;00m\n\u001b[32m    292\u001b[39m \u001b[33;03m    representing the connection, and the address of the client.\u001b[39;00m\n\u001b[32m    293\u001b[39m \u001b[33;03m    For IP sockets, the address info is a pair (hostaddr, port).\u001b[39;00m\n\u001b[32m    294\u001b[39m \u001b[33;03m    \"\"\"\u001b[39;00m\n\u001b[32m--> \u001b[39m\u001b[32m295\u001b[39m     fd, addr = \u001b[38;5;28;43mself\u001b[39;49m\u001b[43m.\u001b[49m\u001b[43m_accept\u001b[49m\u001b[43m(\u001b[49m\u001b[43m)\u001b[49m\n\u001b[32m    296\u001b[39m     sock = socket(\u001b[38;5;28mself\u001b[39m.family, \u001b[38;5;28mself\u001b[39m.type, \u001b[38;5;28mself\u001b[39m.proto, fileno=fd)\n\u001b[32m    297\u001b[39m     \u001b[38;5;66;03m# Issue #7995: if no default timeout is set and the listening\u001b[39;00m\n\u001b[32m    298\u001b[39m     \u001b[38;5;66;03m# socket had a (non-zero) timeout, force the new socket in blocking\u001b[39;00m\n\u001b[32m    299\u001b[39m     \u001b[38;5;66;03m# mode to override platform-specific socket flags inheritance.\u001b[39;00m\n",
      "\u001b[31mKeyboardInterrupt\u001b[39m: "
     ]
    }
   ],
   "source": [
    "# first of all import the socket library \n",
    "import socket             \n",
    "\n",
    "# next create a socket object \n",
    "s = socket.socket()         \n",
    "print (\"Socket successfully created\")\n",
    "\n",
    "# reserve a port on your computer in our \n",
    "# case it is 12345 but it can be anything \n",
    "port = 12345                \n",
    "\n",
    "# Next bind to the port \n",
    "# we have not typed any ip in the ip field \n",
    "# instead we have inputted an empty string \n",
    "# this makes the server listen to requests \n",
    "# coming from other computers on the network \n",
    "s.bind(('', port))         \n",
    "print (\"socket binded to %s\" %(port)) \n",
    "\n",
    "# put the socket into listening mode \n",
    "s.listen(5)     \n",
    "print (\"socket is listening\")            \n",
    "\n",
    "# a forever loop until we interrupt it or \n",
    "# an error occurs \n",
    "while True: \n",
    "\n",
    "# Establish connection with client. \n",
    "  c, addr = s.accept()     \n",
    "  print ('Got connection from', addr )\n",
    "\n",
    "  # send a thank you message to the client. encoding to send byte type. \n",
    "  c.send('Thank you for connecting'.encode()) \n",
    "\n",
    "  # Close the connection with the client \n",
    "  c.close()\n",
    "  \n",
    "  # Breaking once connection closed\n",
    "  break"
   ]
  },
  {
   "cell_type": "code",
   "execution_count": 73,
   "id": "175f1041-dee2-4d72-8e42-0ffc3ef31706",
   "metadata": {},
   "outputs": [
    {
     "ename": "KeyboardInterrupt",
     "evalue": "",
     "output_type": "error",
     "traceback": [
      "\u001b[31m---------------------------------------------------------------------------\u001b[39m",
      "\u001b[31mKeyboardInterrupt\u001b[39m                         Traceback (most recent call last)",
      "\u001b[36mCell\u001b[39m\u001b[36m \u001b[39m\u001b[32mIn[73]\u001b[39m\u001b[32m, line 14\u001b[39m\n\u001b[32m     11\u001b[39m s.connect((\u001b[33m'\u001b[39m\u001b[33m127.0.0.1\u001b[39m\u001b[33m'\u001b[39m, port)) \n\u001b[32m     13\u001b[39m \u001b[38;5;66;03m# receive data from the server and decoding to get the string.\u001b[39;00m\n\u001b[32m---> \u001b[39m\u001b[32m14\u001b[39m \u001b[38;5;28mprint\u001b[39m (\u001b[43ms\u001b[49m\u001b[43m.\u001b[49m\u001b[43mrecv\u001b[49m\u001b[43m(\u001b[49m\u001b[32;43m1024\u001b[39;49m\u001b[43m)\u001b[49m.decode())\n\u001b[32m     15\u001b[39m \u001b[38;5;66;03m# close the connection \u001b[39;00m\n\u001b[32m     16\u001b[39m s.close()\n",
      "\u001b[31mKeyboardInterrupt\u001b[39m: "
     ]
    }
   ],
   "source": [
    "# Import socket module \n",
    "import socket             \n",
    "\n",
    "# Create a socket object \n",
    "s = socket.socket()         \n",
    "\n",
    "# Define the port on which you want to connect \n",
    "port = 12345                \n",
    "\n",
    "# connect to the server on local computer \n",
    "s.connect(('127.0.0.1', port)) \n",
    "\n",
    "# receive data from the server and decoding to get the string.\n",
    "print (s.recv(1024).decode())\n",
    "# close the connection \n",
    "s.close()"
   ]
  },
  {
   "cell_type": "code",
   "execution_count": 69,
   "id": "47674999-c0f9-458e-ba97-efdb187cf07a",
   "metadata": {},
   "outputs": [
    {
     "name": "stdout",
     "output_type": "stream",
     "text": [
      "Socket successfully created\n",
      "the socket has successfully connected to google\n"
     ]
    }
   ],
   "source": [
    "# An example script to connect to Google using socket \n",
    "# programming in Python \n",
    "import socket # for socket \n",
    "import sys \n",
    "\n",
    "try: \n",
    "    s = socket.socket(socket.AF_INET, socket.SOCK_STREAM) \n",
    "    print (\"Socket successfully created\")\n",
    "except socket.error as err: \n",
    "    print (\"socket creation failed with error %s\" %(err))\n",
    "\n",
    "# default port for socket \n",
    "port = 80\n",
    "\n",
    "try: \n",
    "    host_ip = socket.gethostbyname('www.google.com') \n",
    "except socket.gaierror: \n",
    "\n",
    "    # this means could not resolve the host \n",
    "    print (\"there was an error resolving the host\")\n",
    "    sys.exit() \n",
    "\n",
    "# connecting to the server \n",
    "s.connect((host_ip, port)) \n",
    "\n",
    "print (\"the socket has successfully connected to google\")"
   ]
  },
  {
   "cell_type": "code",
   "execution_count": 69,
   "id": "fee22d32-faf8-4fd1-9dc8-030e96253c41",
   "metadata": {},
   "outputs": [
    {
     "name": "stdout",
     "output_type": "stream",
     "text": [
      "Socket successfully created\n",
      "the socket has successfully connected to google\n"
     ]
    }
   ],
   "source": [
    "# An example script to connect to Google using socket \n",
    "# programming in Python \n",
    "import socket # for socket \n",
    "import sys \n",
    "\n",
    "try: \n",
    "    s = socket.socket(socket.AF_INET, socket.SOCK_STREAM) \n",
    "    print (\"Socket successfully created\")\n",
    "except socket.error as err: \n",
    "    print (\"socket creation failed with error %s\" %(err))\n",
    "\n",
    "# default port for socket \n",
    "port = 80\n",
    "\n",
    "try: \n",
    "    host_ip = socket.gethostbyname('www.google.com') \n",
    "except socket.gaierror: \n",
    "\n",
    "    # this means could not resolve the host \n",
    "    print (\"there was an error resolving the host\")\n",
    "    sys.exit() \n",
    "\n",
    "# connecting to the server \n",
    "s.connect((host_ip, port)) \n",
    "\n",
    "print (\"the socket has successfully connected to google\")"
   ]
  },
  {
   "cell_type": "code",
   "execution_count": null,
   "id": "dd449c0f-86ed-4254-b65b-51ffcc272234",
   "metadata": {},
   "outputs": [],
   "source": []
  },
  {
   "cell_type": "code",
   "execution_count": 66,
   "id": "8bfc3d62-8044-45d0-a918-8cf7666fef07",
   "metadata": {},
   "outputs": [
    {
     "name": "stdout",
     "output_type": "stream",
     "text": [
      "[*] Server running on http://127.0.0.1:5000\n",
      "[+] Connected by ('127.0.0.1', 52120)\n",
      "[REQUEST] GET /items HTTP/1.1\n",
      "Host: localhost:5000\n",
      "Connection: keep-alive\n",
      "Cache-Control: max-age=0\n",
      "sec-ch-ua: \"Google Chrome\";v=\"137\", \"Chromium\";v=\"137\", \"Not/A)Brand\";v=\"24\"\n",
      "sec-ch-ua-mobile: ?0\n",
      "sec-ch-ua-platform: \"Linux\"\n",
      "Upgrade-Insecure-Requests: 1\n",
      "User-Agent: Mozilla/5.0 (X11; Linux x86_64) AppleWebKit/537.36 (KHTML, like Gecko) Chrome/137.0.0.0 Safari/537.36\n",
      "Accept: text/html,application/xhtml+xml,application/xml;q=0.9,image/avif,image/webp,image/apng,*/*;q=0.8,application/signed-exchange;v=b3;q=0.7\n",
      "Sec-Fetch-Site: none\n",
      "Sec-Fetch-Mode: navigate\n",
      "Sec-Fetch-User: ?1\n",
      "Sec-Fetch-Dest: document\n",
      "Accept-Encoding: gzip, deflate, br, zstd\n",
      "Accept-Language: en-US,en;q=0.9\n",
      "\n",
      "\n",
      "[+] Connected by ('127.0.0.1', 52122)\n",
      "[REQUEST] GET /.well-known/appspecific/com.chrome.devtools.json HTTP/1.1\n",
      "Host: localhost:5000\n",
      "Connection: keep-alive\n",
      "Sec-Fetch-Site: same-origin\n",
      "Sec-Fetch-Mode: no-cors\n",
      "Sec-Fetch-Dest: empty\n",
      "User-Agent: Mozilla/5.0 (X11; Linux x86_64) AppleWebKit/537.36 (KHTML, like Gecko) Chrome/137.0.0.0 Safari/537.36\n",
      "Accept-Encoding: gzip, deflate, br, zstd\n",
      "Accept-Language: en-US,en;q=0.9\n",
      "\n",
      "\n",
      "[+] Connected by ('127.0.0.1', 50460)\n",
      "[REQUEST] GET /items HTTP/1.1\n",
      "Host: localhost:5000\n",
      "Connection: keep-alive\n",
      "Cache-Control: max-age=0\n",
      "sec-ch-ua: \"Google Chrome\";v=\"137\", \"Chromium\";v=\"137\", \"Not/A)Brand\";v=\"24\"\n",
      "sec-ch-ua-mobile: ?0\n",
      "sec-ch-ua-platform: \"Linux\"\n",
      "Upgrade-Insecure-Requests: 1\n",
      "User-Agent: Mozilla/5.0 (X11; Linux x86_64) AppleWebKit/537.36 (KHTML, like Gecko) Chrome/137.0.0.0 Safari/537.36\n",
      "Accept: text/html,application/xhtml+xml,application/xml;q=0.9,image/avif,image/webp,image/apng,*/*;q=0.8,application/signed-exchange;v=b3;q=0.7\n",
      "Sec-Fetch-Site: none\n",
      "Sec-Fetch-Mode: navigate\n",
      "Sec-Fetch-User: ?1\n",
      "Sec-Fetch-Dest: document\n",
      "Accept-Encoding: gzip, deflate, br, zstd\n",
      "Accept-Language: en-US,en;q=0.9\n",
      "\n",
      "\n",
      "[+] Connected by ('127.0.0.1', 50466)\n",
      "[REQUEST] GET /.well-known/appspecific/com.chrome.devtools.json HTTP/1.1\n",
      "Host: localhost:5000\n",
      "Connection: keep-alive\n",
      "Sec-Fetch-Site: same-origin\n",
      "Sec-Fetch-Mode: no-cors\n",
      "Sec-Fetch-Dest: empty\n",
      "User-Agent: Mozilla/5.0 (X11; Linux x86_64) AppleWebKit/537.36 (KHTML, like Gecko) Chrome/137.0.0.0 Safari/537.36\n",
      "Accept-Encoding: gzip, deflate, br, zstd\n",
      "Accept-Language: en-US,en;q=0.9\n",
      "\n",
      "\n"
     ]
    },
    {
     "ename": "KeyboardInterrupt",
     "evalue": "",
     "output_type": "error",
     "traceback": [
      "\u001b[31m---------------------------------------------------------------------------\u001b[39m",
      "\u001b[31mKeyboardInterrupt\u001b[39m                         Traceback (most recent call last)",
      "\u001b[36mCell\u001b[39m\u001b[36m \u001b[39m\u001b[32mIn[66]\u001b[39m\u001b[32m, line 59\u001b[39m\n\u001b[32m     56\u001b[39m             handle_client(client_socket)\n\u001b[32m     58\u001b[39m \u001b[38;5;28;01mif\u001b[39;00m \u001b[34m__name__\u001b[39m == \u001b[33m\"\u001b[39m\u001b[33m__main__\u001b[39m\u001b[33m\"\u001b[39m:\n\u001b[32m---> \u001b[39m\u001b[32m59\u001b[39m     \u001b[43mstart_server\u001b[49m\u001b[43m(\u001b[49m\u001b[43m)\u001b[49m\n",
      "\u001b[36mCell\u001b[39m\u001b[36m \u001b[39m\u001b[32mIn[66]\u001b[39m\u001b[32m, line 54\u001b[39m, in \u001b[36mstart_server\u001b[39m\u001b[34m()\u001b[39m\n\u001b[32m     51\u001b[39m \u001b[38;5;28mprint\u001b[39m(\u001b[33mf\u001b[39m\u001b[33m\"\u001b[39m\u001b[33m[*] Server running on http://\u001b[39m\u001b[38;5;132;01m{\u001b[39;00mHOST\u001b[38;5;132;01m}\u001b[39;00m\u001b[33m:\u001b[39m\u001b[38;5;132;01m{\u001b[39;00mPORT\u001b[38;5;132;01m}\u001b[39;00m\u001b[33m\"\u001b[39m)\n\u001b[32m     53\u001b[39m \u001b[38;5;28;01mwhile\u001b[39;00m \u001b[38;5;28;01mTrue\u001b[39;00m:\n\u001b[32m---> \u001b[39m\u001b[32m54\u001b[39m     client_socket, addr = \u001b[43mserver_socket\u001b[49m\u001b[43m.\u001b[49m\u001b[43maccept\u001b[49m\u001b[43m(\u001b[49m\u001b[43m)\u001b[49m\n\u001b[32m     55\u001b[39m     \u001b[38;5;28mprint\u001b[39m(\u001b[33mf\u001b[39m\u001b[33m\"\u001b[39m\u001b[33m[+] Connected by \u001b[39m\u001b[38;5;132;01m{\u001b[39;00maddr\u001b[38;5;132;01m}\u001b[39;00m\u001b[33m\"\u001b[39m)\n\u001b[32m     56\u001b[39m     handle_client(client_socket)\n",
      "\u001b[36mFile \u001b[39m\u001b[32m/usr/lib/python3.12/socket.py:295\u001b[39m, in \u001b[36msocket.accept\u001b[39m\u001b[34m(self)\u001b[39m\n\u001b[32m    288\u001b[39m \u001b[38;5;28;01mdef\u001b[39;00m\u001b[38;5;250m \u001b[39m\u001b[34maccept\u001b[39m(\u001b[38;5;28mself\u001b[39m):\n\u001b[32m    289\u001b[39m \u001b[38;5;250m    \u001b[39m\u001b[33;03m\"\"\"accept() -> (socket object, address info)\u001b[39;00m\n\u001b[32m    290\u001b[39m \n\u001b[32m    291\u001b[39m \u001b[33;03m    Wait for an incoming connection.  Return a new socket\u001b[39;00m\n\u001b[32m    292\u001b[39m \u001b[33;03m    representing the connection, and the address of the client.\u001b[39;00m\n\u001b[32m    293\u001b[39m \u001b[33;03m    For IP sockets, the address info is a pair (hostaddr, port).\u001b[39;00m\n\u001b[32m    294\u001b[39m \u001b[33;03m    \"\"\"\u001b[39;00m\n\u001b[32m--> \u001b[39m\u001b[32m295\u001b[39m     fd, addr = \u001b[38;5;28;43mself\u001b[39;49m\u001b[43m.\u001b[49m\u001b[43m_accept\u001b[49m\u001b[43m(\u001b[49m\u001b[43m)\u001b[49m\n\u001b[32m    296\u001b[39m     sock = socket(\u001b[38;5;28mself\u001b[39m.family, \u001b[38;5;28mself\u001b[39m.type, \u001b[38;5;28mself\u001b[39m.proto, fileno=fd)\n\u001b[32m    297\u001b[39m     \u001b[38;5;66;03m# Issue #7995: if no default timeout is set and the listening\u001b[39;00m\n\u001b[32m    298\u001b[39m     \u001b[38;5;66;03m# socket had a (non-zero) timeout, force the new socket in blocking\u001b[39;00m\n\u001b[32m    299\u001b[39m     \u001b[38;5;66;03m# mode to override platform-specific socket flags inheritance.\u001b[39;00m\n",
      "\u001b[31mKeyboardInterrupt\u001b[39m: "
     ]
    }
   ],
   "source": [
    "import socket\n",
    "import json\n",
    "\n",
    "# Hardcoded product list\n",
    "products = [\n",
    "    {\"id\": 1, \"type\": \"Laptop\", \"price\": 999.99},\n",
    "    {\"id\": 2, \"type\": \"Smartphone\", \"price\": 499.49},\n",
    "    {\"id\": 3, \"type\": \"Headphones\", \"price\": 149.95}\n",
    "]\n",
    "\n",
    "# Server setup\n",
    "HOST = '127.0.0.1'\n",
    "PORT = 5000\n",
    "\n",
    "def handle_client(client_socket):\n",
    "    request = client_socket.recv(1024).decode('utf-8')\n",
    "    print(f\"[REQUEST] {request}\")\n",
    "\n",
    "    # Parse the request line (e.g., GET /items HTTP/1.1)\n",
    "    request_line = request.splitlines()[0]\n",
    "    method, path, _ = request_line.split()\n",
    "\n",
    "    if method == 'GET' and path == '/items':\n",
    "        response_body = json.dumps(products)\n",
    "        response = (\n",
    "            \"HTTP/1.1 200 OK\\r\\n\"\n",
    "            \"Content-Type: application/json\\r\\n\"\n",
    "            f\"Content-Length: {len(response_body)}\\r\\n\"\n",
    "            \"Connection: close\\r\\n\"\n",
    "            \"\\r\\n\" +\n",
    "            response_body\n",
    "        )\n",
    "    else:\n",
    "        response_body = json.dumps({\"error\": \"Not found\"})\n",
    "        response = (\n",
    "            \"HTTP/1.1 404 Not Found\\r\\n\"\n",
    "            \"Content-Type: application/json\\r\\n\"\n",
    "            f\"Content-Length: {len(response_body)}\\r\\n\"\n",
    "            \"Connection: close\\r\\n\"\n",
    "            \"\\r\\n\" +\n",
    "            response_body\n",
    "        )\n",
    "\n",
    "    client_socket.sendall(response.encode('utf-8'))\n",
    "    client_socket.close()\n",
    "\n",
    "def start_server():\n",
    "    with socket.socket(socket.AF_INET, socket.SOCK_STREAM) as server_socket:\n",
    "        server_socket.bind((HOST, PORT))\n",
    "        server_socket.listen(5)\n",
    "        print(f\"[*] Server running on http://{HOST}:{PORT}\")\n",
    "\n",
    "        while True:\n",
    "            client_socket, addr = server_socket.accept()\n",
    "            print(f\"[+] Connected by {addr}\")\n",
    "            handle_client(client_socket)\n",
    "\n",
    "if __name__ == \"__main__\":\n",
    "    start_server()\n"
   ]
  },
  {
   "cell_type": "code",
   "execution_count": 91,
   "id": "d83a7ad6-3035-481c-909a-50dd083e34ed",
   "metadata": {},
   "outputs": [
    {
     "name": "stdout",
     "output_type": "stream",
     "text": [
      "Listening on 127.0.0.1:8090\n",
      "Accepted connection from 127.0.0.1:45238\n",
      "Received: GET / HTTP/1.1\n",
      "Host: 127.0.0.1:8090\n",
      "Connection: keep-alive\n",
      "sec-ch-ua: \"Google Chrome\";v=\"137\", \"Chromium\";v=\"137\", \"Not/A)Brand\";v=\"24\"\n",
      "sec-ch-ua-mobile: ?0\n",
      "sec-ch-ua-platform: \"Linux\"\n",
      "Upgrade-Insecure-Requests: 1\n",
      "User-Agent: Mozilla/5.0 (X11; Linux x86_64) AppleWebKit/537.36 (KHTML, like Gecko) Chrome/137.0.0.0 Safari/537.36\n",
      "Accept: text/html,application/xhtml+xml,application/xml;q=0.9,image/avif,image/webp,image/apng,*/*;q=0.8,application/signed-exchange;v=b3;q=0.7\n",
      "Sec-Fetch-Site: none\n",
      "Sec-Fetch-Mode: navigate\n",
      "Sec-Fetch-User: ?1\n",
      "Sec-Fetch-Dest: document\n",
      "Accept-Encoding: gzip, deflate, br, zstd\n",
      "Accept-Language: en-US,en;q=0.9\n",
      "\n",
      "\n"
     ]
    },
    {
     "ename": "TypeError",
     "evalue": "object of type 'int' has no len()",
     "output_type": "error",
     "traceback": [
      "\u001b[31m---------------------------------------------------------------------------\u001b[39m",
      "\u001b[31mTypeError\u001b[39m                                 Traceback (most recent call last)",
      "\u001b[36mCell\u001b[39m\u001b[36m \u001b[39m\u001b[32mIn[91]\u001b[39m\u001b[32m, line 54\u001b[39m\n\u001b[32m     50\u001b[39m     \u001b[38;5;66;03m# close server socket\u001b[39;00m\n\u001b[32m     51\u001b[39m     server.close()\n\u001b[32m---> \u001b[39m\u001b[32m54\u001b[39m \u001b[43mrun_server\u001b[49m\u001b[43m(\u001b[49m\u001b[43m)\u001b[49m\n",
      "\u001b[36mCell\u001b[39m\u001b[36m \u001b[39m\u001b[32mIn[91]\u001b[39m\u001b[32m, line 41\u001b[39m, in \u001b[36mrun_server\u001b[39m\u001b[34m()\u001b[39m\n\u001b[32m     36\u001b[39m     response = \u001b[33m\"\u001b[39m\u001b[33maccepted\u001b[39m\u001b[33m\"\u001b[39m.encode(\u001b[33m\"\u001b[39m\u001b[33mutf-8\u001b[39m\u001b[33m\"\u001b[39m) \u001b[38;5;66;03m# convert string to bytes\u001b[39;00m\n\u001b[32m     37\u001b[39m     \u001b[38;5;66;03m# convert and send accept response to the client\u001b[39;00m\n\u001b[32m     38\u001b[39m     response = (\n\u001b[32m     39\u001b[39m         \u001b[33m\"\u001b[39m\u001b[33mHTTP/1.1 200 OK\u001b[39m\u001b[38;5;130;01m\\r\u001b[39;00m\u001b[38;5;130;01m\\n\u001b[39;00m\u001b[33m\"\u001b[39m\n\u001b[32m     40\u001b[39m         \u001b[33m\"\u001b[39m\u001b[33mContent-Type: application/json\u001b[39m\u001b[38;5;130;01m\\r\u001b[39;00m\u001b[38;5;130;01m\\n\u001b[39;00m\u001b[33m\"\u001b[39m\n\u001b[32m---> \u001b[39m\u001b[32m41\u001b[39m         \u001b[33mf\u001b[39m\u001b[33m\"\u001b[39m\u001b[33mContent-Length: \u001b[39m\u001b[38;5;132;01m{\u001b[39;00m\u001b[38;5;28;43mlen\u001b[39;49m\u001b[43m(\u001b[49m\u001b[32;43m100\u001b[39;49m\u001b[43m)\u001b[49m\u001b[38;5;132;01m}\u001b[39;00m\u001b[38;5;130;01m\\r\u001b[39;00m\u001b[38;5;130;01m\\n\u001b[39;00m\u001b[33m\"\u001b[39m\n\u001b[32m     42\u001b[39m         \u001b[33m\"\u001b[39m\u001b[33mConnection: close\u001b[39m\u001b[38;5;130;01m\\r\u001b[39;00m\u001b[38;5;130;01m\\n\u001b[39;00m\u001b[33m\"\u001b[39m\n\u001b[32m     43\u001b[39m         \u001b[33m\"\u001b[39m\u001b[38;5;130;01m\\r\u001b[39;00m\u001b[38;5;130;01m\\n\u001b[39;00m\u001b[33m\"\u001b[39m\n\u001b[32m     44\u001b[39m     )\n\u001b[32m     45\u001b[39m     client_socket.send(response)\n\u001b[32m     47\u001b[39m \u001b[38;5;66;03m# close connection socket with the client\u001b[39;00m\n",
      "\u001b[31mTypeError\u001b[39m: object of type 'int' has no len()"
     ]
    }
   ],
   "source": [
    "import socket\n",
    "\n",
    "\n",
    "def run_server():\n",
    "    # create a socket object\n",
    "    server = socket.socket(socket.AF_INET, socket.SOCK_STREAM)\n",
    "\n",
    "    server_ip = \"127.0.0.1\"\n",
    "    port = 8090\n",
    "\n",
    "    # bind the socket to a specific address and port\n",
    "    server.bind((server_ip, port))\n",
    "    # listen for incoming connections\n",
    "    server.listen(0)\n",
    "    print(f\"Listening on {server_ip}:{port}\")\n",
    "\n",
    "    # accept incoming connections\n",
    "    client_socket, client_address = server.accept()\n",
    "    print(f\"Accepted connection from {client_address[0]}:{client_address[1]}\")\n",
    "\n",
    "    # receive data from the client\n",
    "    while True:\n",
    "        request = client_socket.recv(1024)\n",
    "        request = request.decode(\"utf-8\") # convert bytes to string\n",
    "        \n",
    "        # if we receive \"close\" from the client, then we break\n",
    "        # out of the loop and close the conneciton\n",
    "        if request.lower() == \"close\":\n",
    "            # send response to the client which acknowledges that the\n",
    "            # connection should be closed and break out of the loop\n",
    "            client_socket.send(\"closed\".encode(\"utf-8\"))\n",
    "            break\n",
    "\n",
    "        print(f\"Received: {request}\")\n",
    "\n",
    "        response = \"accepted\".encode(\"utf-8\") # convert string to bytes\n",
    "        # convert and send accept response to the client\n",
    "        response = (\n",
    "            \"HTTP/1.1 200 OK\\r\\n\"\n",
    "            \"Content-Type: application/json\\r\\n\"\n",
    "            f\"Content-Length: {100}\\r\\n\"\n",
    "            \"Connection: close\\r\\n\"\n",
    "            \"\\r\\n\"\n",
    "        )\n",
    "        client_socket.send(response)\n",
    "\n",
    "    # close connection socket with the client\n",
    "    client_socket.close()\n",
    "    print(\"Connection to client closed\")\n",
    "    # close server socket\n",
    "    server.close()\n",
    "\n",
    "\n",
    "run_server()\n"
   ]
  },
  {
   "cell_type": "code",
   "execution_count": null,
   "id": "94821cd4-41cc-4b0a-ba0d-7fdbe661f883",
   "metadata": {},
   "outputs": [],
   "source": []
  }
 ],
 "metadata": {
  "kernelspec": {
   "display_name": "Python 3 (ipykernel)",
   "language": "python",
   "name": "python3"
  },
  "language_info": {
   "codemirror_mode": {
    "name": "ipython",
    "version": 3
   },
   "file_extension": ".py",
   "mimetype": "text/x-python",
   "name": "python",
   "nbconvert_exporter": "python",
   "pygments_lexer": "ipython3",
   "version": "3.12.10"
  }
 },
 "nbformat": 4,
 "nbformat_minor": 5
}
