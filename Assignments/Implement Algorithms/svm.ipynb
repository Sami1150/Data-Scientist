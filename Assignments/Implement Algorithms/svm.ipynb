{
 "cells": [
  {
   "cell_type": "markdown",
   "id": "43214a1d",
   "metadata": {},
   "source": [
    "1. Important imports"
   ]
  },
  {
   "cell_type": "code",
   "execution_count": null,
   "id": "4eb144ad",
   "metadata": {},
   "outputs": [],
   "source": [
    "from sklearn import svm\n",
    "import pandas as pd\n",
    "from sklearn.preprocessing import MinMaxScaler, StandardScaler\n",
    "from sklearn.model_selection import train_test_split\n",
    "from sklearn import preprocessing\n",
    "from sklearn import metrics\n",
    "import matplotlib.pyplot as plt\n",
    "from sklearn import svm\n",
    "from sklearn.model_selection import GridSearchCV\n",
    "from sklearn.metrics import confusion_matrix\n",
    "from sklearn.metrics import classification_report"
   ]
  },
  {
   "cell_type": "markdown",
   "id": "d8f7bee5",
   "metadata": {},
   "source": [
    "2. Read Data"
   ]
  },
  {
   "cell_type": "code",
   "execution_count": null,
   "id": "9ad5bf6a",
   "metadata": {},
   "outputs": [],
   "source": [
    "df = pd.read_excel(\"Bank_Personal_Loan_Modelling.xlsx\", sheet_name=\"Data\")\n",
    "# df.head()\n",
    "\n",
    "target_Y = df[\"Personal Loan\"]\n",
    "feature_X = df.drop(columns=[\"ID\", \"Personal Loan\"], axis=1)"
   ]
  },
  {
   "cell_type": "markdown",
   "id": "d11752c0",
   "metadata": {},
   "source": [
    "3. Split Data"
   ]
  },
  {
   "cell_type": "code",
   "execution_count": null,
   "id": "5c3a64ee",
   "metadata": {},
   "outputs": [],
   "source": [
    "X_train, X_test, y_train, y_test = train_test_split( feature_X, target_Y, test_size=0.3, stratify=target_Y, random_state=42)"
   ]
  },
  {
   "cell_type": "markdown",
   "id": "d3fce296",
   "metadata": {},
   "source": [
    "4. Normalize Data"
   ]
  },
  {
   "cell_type": "code",
   "execution_count": null,
   "id": "b4c20782",
   "metadata": {},
   "outputs": [],
   "source": [
    "X_train_norm = preprocessing.normalize(X_train)\n",
    "X_test_norm = preprocessing.normalize(X_test)"
   ]
  },
  {
   "cell_type": "markdown",
   "id": "d5b4e1c7",
   "metadata": {},
   "source": [
    "5. Train model"
   ]
  },
  {
   "cell_type": "code",
   "execution_count": null,
   "id": "eae3a913",
   "metadata": {},
   "outputs": [],
   "source": [
    "#Create a svm Classifier\n",
    "clf = svm.SVC(kernel='linear')\n",
    "clf.fit(X_train_norm, y_train)\n",
    "y_pred = clf.predict(X_test)"
   ]
  },
  {
   "cell_type": "markdown",
   "id": "a6f9602b",
   "metadata": {},
   "source": [
    "6. Calculate Accuracy"
   ]
  },
  {
   "cell_type": "code",
   "execution_count": null,
   "id": "d66746e2",
   "metadata": {},
   "outputs": [],
   "source": [
    "print(\"Accuracy:\",metrics.accuracy_score(y_test, y_pred))\n",
    "print(\"Precision:\",metrics.precision_score(y_test, y_pred))\n",
    "print(\"Recall:\",metrics.recall_score(y_test, y_pred))\n",
    "print(\"F1 Score:\",metrics.f1_score(y_test, y_pred))"
   ]
  },
  {
   "cell_type": "markdown",
   "id": "1e9b95f5",
   "metadata": {},
   "source": [
    "7. Find confusion Matrix"
   ]
  },
  {
   "cell_type": "code",
   "execution_count": null,
   "id": "132cb841",
   "metadata": {},
   "outputs": [],
   "source": [
    "cm = confusion_matrix(y_test, y_pred)\n",
    "cm_display = metrics.ConfusionMatrixDisplay(confusion_matrix = cm, display_labels = [0, 1])\n",
    "cm_display.plot()"
   ]
  },
  {
   "cell_type": "markdown",
   "id": "bd6f220e",
   "metadata": {},
   "source": [
    "8. Use GridSearchCV to find best params:\n",
    "<br />https://aneesha.medium.com/svm-parameter-tuning-in-scikit-learn-using-gridsearchcv-2413c02125a0"
   ]
  },
  {
   "cell_type": "code",
   "execution_count": null,
   "id": "aac722aa",
   "metadata": {},
   "outputs": [],
   "source": [
    "def svc_param_selection(X, y, nfolds):\n",
    "    Cs = [0.001, 0.01, 0.1, 1, 10]\n",
    "    gammas = [0.001, 0.01, 0.1, 1]\n",
    "    param_grid = {'C': Cs, 'gamma' : gammas}\n",
    "    grid_search = GridSearchCV(svm.SVC(kernel='rbf'), param_grid, cv=nfolds)\n",
    "    grid_search.fit(X, y)\n",
    "    grid_search.best_params_\n",
    "    return grid_search.best_params_\n",
    "\n",
    "params = svc_param_selection(X_train, y_train, 10)\n",
    "print(\"\\n✅ Best Parameters found by GridSearchCV:\", params)"
   ]
  },
  {
   "cell_type": "markdown",
   "id": "804f9cac",
   "metadata": {},
   "source": [
    "8b. Use GridSearchCV to find best params"
   ]
  },
  {
   "cell_type": "code",
   "execution_count": null,
   "id": "da48050f",
   "metadata": {},
   "outputs": [],
   "source": [
    "param_grid = {\n",
    "    'C': [0.1, 1, 10, 100],\n",
    "    'gamma': ['scale', 'auto', 0.01, 0.1, 1],\n",
    "    'kernel': ['linear', 'rbf', 'poly'],\n",
    "    'degree': [2, 3, 4]  \n",
    "}\n",
    "\n",
    "svc = svm.SVC(random_state=42)\n",
    "\n",
    "grid = GridSearchCV(svc, param_grid, cv=5, verbose=2, scoring='accuracy', n_jobs=-1)\n",
    "\n",
    "grid.fit(X_train, y_train)\n",
    "\n",
    "print(\"\\n✅ Best Parameters found by GridSearchCV:\", grid.best_params_)\n",
    "\n",
    "y_pred = grid.predict(X_test)\n",
    "\n",
    "print(\"\\n📊 Classification Report on Test Set:\\n\", classification_report(y_test, y_pred))\n"
   ]
  }
 ],
 "metadata": {
  "kernelspec": {
   "display_name": "myvenv",
   "language": "python",
   "name": "python3"
  },
  "language_info": {
   "codemirror_mode": {
    "name": "ipython",
    "version": 3
   },
   "file_extension": ".py",
   "mimetype": "text/x-python",
   "name": "python",
   "nbconvert_exporter": "python",
   "pygments_lexer": "ipython3",
   "version": "3.12.11"
  }
 },
 "nbformat": 4,
 "nbformat_minor": 5
}
